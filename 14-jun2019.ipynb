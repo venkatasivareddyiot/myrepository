{
 "cells": [
  {
   "cell_type": "markdown",
   "metadata": {},
   "source": [
    "## Python Data Structures\n",
    "\n",
    "### Lists"
   ]
  },
  {
   "cell_type": "code",
   "execution_count": 40,
   "metadata": {},
   "outputs": [
    {
     "name": "stdout",
     "output_type": "stream",
     "text": [
      "[123, 456, 789, 234]\n",
      "456\n",
      "[456, 789, 234]\n",
      "[234, 789, 456, 123]\n",
      "[234, 789, 456, 123]\n",
      "[234, 456]\n",
      "[789, 123]\n"
     ]
    }
   ],
   "source": [
    "li = [123,456,789,234]\n",
    "\n",
    "print(li)  #Access the entire list\n",
    "\n",
    "print(li[1])   #Accesssing an element with index\n",
    "\n",
    "print(li[1:])   #Accessing all elements from second element to last element\n",
    "\n",
    "print(li[::-1])   #Reversing a list\n",
    "\n",
    "li=li[::-1]   #reversing list elements and reassingning in original list\n",
    "\n",
    "print(li)\n",
    "\n",
    "print(li[::2])  #Accessing even index elements\n",
    "\n",
    "print(li[1::2])  #Accessing odd index elements"
   ]
  },
  {
   "cell_type": "markdown",
   "metadata": {},
   "source": [
    "### Adding am element to a list"
   ]
  },
  {
   "cell_type": "code",
   "execution_count": 41,
   "metadata": {},
   "outputs": [
    {
     "name": "stdout",
     "output_type": "stream",
     "text": [
      "[234, 789, 456, 123, 345]\n"
     ]
    },
    {
     "data": {
      "text/plain": [
       "234"
      ]
     },
     "execution_count": 41,
     "metadata": {},
     "output_type": "execute_result"
    }
   ],
   "source": [
    "# Lists can be accessed, manipulated in two different ways\n",
    "    # Direct Referencing -[index]\n",
    "    # Indirect Referencing - through function\n",
    "    \n",
    "li.append(345)  #Adding an element to end og the list\n",
    "\n",
    "print(li)\n",
    "\n",
    "li.insert(1,234)  #Adding an element at a particular place\n",
    "\n",
    "li.sort()   #Sort accessing order\n",
    "\n",
    "li.pop()   #Remove the last element\n",
    "\n",
    "li.pop(1)   #remove an element at a particular element\n"
   ]
  },
  {
   "cell_type": "markdown",
   "metadata": {},
   "source": [
    "### Merging lists"
   ]
  },
  {
   "cell_type": "code",
   "execution_count": 52,
   "metadata": {},
   "outputs": [
    {
     "name": "stdout",
     "output_type": "stream",
     "text": [
      "[123, 234, 345, 456, 909, 876, 678]\n",
      "[123, 234, 345, 456, 909, 876, 678, 909, 876, 678]\n"
     ]
    },
    {
     "data": {
      "text/plain": [
       "678"
      ]
     },
     "execution_count": 52,
     "metadata": {},
     "output_type": "execute_result"
    }
   ],
   "source": [
    "print(li)\n",
    "\n",
    "li2=[909,876,678]\n",
    "\n",
    "li.extend(li2)   #Merge list 2 into list 1\n",
    "print(li)\n",
    "\n",
    "sum(li)  #sum of a;; emelents in list\n",
    "max(li)  #maximum number in list\n",
    "len(li)  #number of elements in a alist\n"
   ]
  },
  {
   "cell_type": "code",
   "execution_count": 49,
   "metadata": {},
   "outputs": [
    {
     "name": "stdout",
     "output_type": "stream",
     "text": [
      "517\n"
     ]
    }
   ],
   "source": [
    "#Average of list elements\n",
    "avg=sum(li)//len(li)\n",
    "print(avg)"
   ]
  },
  {
   "cell_type": "code",
   "execution_count": 51,
   "metadata": {},
   "outputs": [
    {
     "name": "stdout",
     "output_type": "stream",
     "text": [
      "[123, 345, 909, 678]\n",
      "513\n"
     ]
    }
   ],
   "source": [
    "#Average of all alternative elements\n",
    "\n",
    "li3=li[::2]\n",
    "print(li3)\n",
    "avg=sum(li3)//len(li3)\n",
    "print(avg)"
   ]
  },
  {
   "cell_type": "code",
   "execution_count": 65,
   "metadata": {},
   "outputs": [
    {
     "name": "stdout",
     "output_type": "stream",
     "text": [
      "[987, 789, 456, 345, 123]\n"
     ]
    },
    {
     "data": {
      "text/plain": [
       "789"
      ]
     },
     "execution_count": 65,
     "metadata": {},
     "output_type": "execute_result"
    }
   ],
   "source": [
    "# Function to identify the secong largest element in a list\n",
    "\n",
    "def secondLargest(li):\n",
    "    li.sort()\n",
    "    li=li[::-1]\n",
    "    print(li)\n",
    "    return li[1]\n",
    "\n",
    "secondLargest([123,456,345,789,987])"
   ]
  },
  {
   "cell_type": "code",
   "execution_count": 59,
   "metadata": {},
   "outputs": [
    {
     "name": "stdout",
     "output_type": "stream",
     "text": [
      "[987, 908, 765, 345, 234, 123]\n"
     ]
    },
    {
     "data": {
      "text/plain": [
       "765"
      ]
     },
     "execution_count": 59,
     "metadata": {},
     "output_type": "execute_result"
    }
   ],
   "source": [
    "# Function that returns nth largest element in a list\n",
    "\n",
    "def genericLargest(li,n):\n",
    "    li.sort()\n",
    "    li=li[::-1]\n",
    "    print(li)\n",
    "    return li[n-1]\n",
    "\n",
    "genericLargest([123,234,345,987,908,765], 3)\n",
    "        "
   ]
  },
  {
   "cell_type": "code",
   "execution_count": 85,
   "metadata": {},
   "outputs": [
    {
     "data": {
      "text/plain": [
       "0"
      ]
     },
     "execution_count": 85,
     "metadata": {},
     "output_type": "execute_result"
    }
   ],
   "source": [
    "#Fucntion to search for data in a list --> linear search  --> first model\n",
    "\n",
    "def linearSearch(li, key):\n",
    "    for i in range(0, len(li)):\n",
    "        if li[i]==key:\n",
    "            return i\n",
    "    return -1\n",
    "\n",
    "linearSearch([123,234,546,567,987], 123)"
   ]
  },
  {
   "cell_type": "code",
   "execution_count": 86,
   "metadata": {},
   "outputs": [
    {
     "data": {
      "text/plain": [
       "1"
      ]
     },
     "execution_count": 86,
     "metadata": {},
     "output_type": "execute_result"
    }
   ],
   "source": [
    "#Fucntion to search for data in a list --> linear search --> second model\n",
    "\n",
    "def linearSearch2(li,key):\n",
    "    for element in li:\n",
    "        if element == key:\n",
    "            return li.index(element)\n",
    "    return -1\n",
    "\n",
    "linearSearch2([123,234,345,456,567], 234)\n"
   ]
  },
  {
   "cell_type": "code",
   "execution_count": 87,
   "metadata": {},
   "outputs": [
    {
     "data": {
      "text/plain": [
       "2"
      ]
     },
     "execution_count": 87,
     "metadata": {},
     "output_type": "execute_result"
    }
   ],
   "source": [
    "#Fucntion to search for data in a list --> linear search --> third model\n",
    "\n",
    "def linearSearch3(li,key):\n",
    "    if key in li:\n",
    "        return li.index(key)\n",
    "    return -1\n",
    "\n",
    "linearSearch([123,234,345,456], 345)\n"
   ]
  },
  {
   "cell_type": "code",
   "execution_count": 92,
   "metadata": {},
   "outputs": [
    {
     "data": {
      "text/plain": [
       "2"
      ]
     },
     "execution_count": 92,
     "metadata": {},
     "output_type": "execute_result"
    }
   ],
   "source": [
    "#function to count the occurances of a character in a string\n",
    "#\"python programming\", m --> 2\n",
    "\n",
    "def countCharOccurance(s,c):\n",
    "    count = 0\n",
    "    for ch in s:\n",
    "        if ch ==c:\n",
    "            count+=1\n",
    "    return count\n",
    "\n",
    "def countCharOccurance2(s,c):\n",
    "    return s.count(c)\n",
    "\n",
    "countCharOccurance2(\"python programming\", 'p')"
   ]
  },
  {
   "cell_type": "code",
   "execution_count": 101,
   "metadata": {},
   "outputs": [
    {
     "data": {
      "text/plain": [
       "0"
      ]
     },
     "execution_count": 101,
     "metadata": {},
     "output_type": "execute_result"
    }
   ],
   "source": [
    "#function to count the occurances of a sub string in a string\n",
    "#\"abaaaabaaaabaaabbaba\", ab --> 5\n",
    "\n",
    "def countSubString(part, full):\n",
    "    i= len(full)\n",
    "    j= len(part)\n",
    "    for check in full:\n",
    "        if check == part\n",
    "        \n",
    "    \n",
    "countSubString('ab', \"abaaaabaaaabaaabbaba\")"
   ]
  },
  {
   "cell_type": "code",
   "execution_count": 102,
   "metadata": {},
   "outputs": [
    {
     "data": {
      "text/plain": [
       "[1, 2, 3, 4, 5, 6]"
      ]
     },
     "execution_count": 102,
     "metadata": {},
     "output_type": "execute_result"
    }
   ],
   "source": [
    "# convert list of strings to intergers\n",
    "\n",
    "s=\" 1 2 3 4 5 6\"\n",
    "\n",
    "li=s.split()\n",
    "numberlist = []\n",
    "for i in li:\n",
    "    numberlist.append(int (i))\n",
    "    \n",
    "numberlist"
   ]
  },
  {
   "cell_type": "code",
   "execution_count": null,
   "metadata": {},
   "outputs": [],
   "source": []
  },
  {
   "cell_type": "code",
   "execution_count": null,
   "metadata": {},
   "outputs": [],
   "source": []
  },
  {
   "cell_type": "code",
   "execution_count": null,
   "metadata": {},
   "outputs": [],
   "source": []
  },
  {
   "cell_type": "code",
   "execution_count": null,
   "metadata": {},
   "outputs": [],
   "source": []
  }
 ],
 "metadata": {
  "kernelspec": {
   "display_name": "Python 3",
   "language": "python",
   "name": "python3"
  },
  "language_info": {
   "codemirror_mode": {
    "name": "ipython",
    "version": 3
   },
   "file_extension": ".py",
   "mimetype": "text/x-python",
   "name": "python",
   "nbconvert_exporter": "python",
   "pygments_lexer": "ipython3",
   "version": "3.7.3"
  }
 },
 "nbformat": 4,
 "nbformat_minor": 2
}
