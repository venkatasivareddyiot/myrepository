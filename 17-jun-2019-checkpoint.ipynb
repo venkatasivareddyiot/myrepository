{
 "cells": [
  {
   "cell_type": "markdown",
   "metadata": {},
   "source": [
    "You have been given 3 integers - l, r and k. Find how many numbers between l and r (both inclusive) are divisible by k. You do not need to print these numbers, you just have to find their count.\n",
    "\n",
    "Input Format\n",
    "The first and only line of input contains 3 space separated integers l, r and k.\n",
    "\n",
    "Output Format\n",
    "Print the required answer on a single line."
   ]
  },
  {
   "cell_type": "code",
   "execution_count": 4,
   "metadata": {},
   "outputs": [
    {
     "name": "stdout",
     "output_type": "stream",
     "text": [
      "1\n",
      "10\n",
      "1\n",
      "10\n"
     ]
    }
   ],
   "source": [
    "def countdivisors(l,r,k):\n",
    "    count=0\n",
    "    for i in range(l,r+1):\n",
    "        if i%k==0:\n",
    "            count+=1\n",
    "    print(count)\n",
    "    \n",
    "countdivisors(int(input()),int(input()),int(input()))"
   ]
  },
  {
   "cell_type": "code",
   "execution_count": 12,
   "metadata": {},
   "outputs": [
    {
     "name": "stdout",
     "output_type": "stream",
     "text": [
      "3\n"
     ]
    },
    {
     "data": {
      "text/plain": [
       "6"
      ]
     },
     "execution_count": 12,
     "metadata": {},
     "output_type": "execute_result"
    }
   ],
   "source": [
    "def factorial(num):\n",
    "    if num==1:\n",
    "        return num\n",
    "    else:\n",
    "        return num*factorial(num-1)\n",
    "\n",
    "num=int(input())\n",
    "factorial(num)"
   ]
  },
  {
   "cell_type": "code",
   "execution_count": null,
   "metadata": {},
   "outputs": [],
   "source": []
  },
  {
   "cell_type": "code",
   "execution_count": 40,
   "metadata": {},
   "outputs": [
    {
     "data": {
      "text/plain": [
       "True"
      ]
     },
     "execution_count": 40,
     "metadata": {},
     "output_type": "execute_result"
    }
   ],
   "source": [
    "def prime(num):\n",
    "    for i in range(2,num):\n",
    "        if num%i==0:\n",
    "            return False\n",
    "    return True\n",
    "\n",
    "prime(5)"
   ]
  },
  {
   "cell_type": "code",
   "execution_count": 42,
   "metadata": {},
   "outputs": [
    {
     "name": "stdout",
     "output_type": "stream",
     "text": [
      "2 3 5 7 11 13 17 19 23 29 31 37 41 43 47 53 59 61 67 71 73 79 83 89 97 101 103 107 109 113 127 131 137 139 149 151 157 163 167 173 179 181 191 193 197 199 211 223 227 229 233 239 241 251 257 263 269 271 277 281 283 293 307 311 313 317 331 337 347 349 353 359 367 373 379 383 389 397 401 409 419 421 431 433 439 443 449 457 461 463 467 479 487 491 499 503 509 521 523 541 547 557 563 569 571 577 587 593 599 601 607 613 617 619 631 641 643 647 653 659 661 673 677 683 691 701 709 719 727 733 739 743 751 757 761 769 773 787 797 809 811 821 823 827 829 839 853 857 859 863 877 881 883 887 907 911 919 "
     ]
    }
   ],
   "source": [
    "def Nprime(n):\n",
    "    j=2\n",
    "    while j<n:\n",
    "        if prime(j):\n",
    "            print(j,end=\" \")\n",
    "        j += 1\n",
    "        \n",
    "Nprime(928)"
   ]
  },
  {
   "cell_type": "code",
   "execution_count": 38,
   "metadata": {},
   "outputs": [
    {
     "name": "stdout",
     "output_type": "stream",
     "text": [
      "2 3 5 7 11 13 17 19 23 29 31 37 41 43 47 53 59 61 67 71 73 79 83 89 97 101 103 107 109 113 127 131 137 139 149 151 157 163 167 173 179 181 191 193 197 199 211 223 227 229 233 239 241 251 257 263 269 271 277 281 283 293 307 311 313 317 331 337 347 349 353 359 367 373 379 383 389 397 401 409 419 421 431 433 439 443 449 457 461 463 467 479 487 491 499 503 509 521 523 541 547 557 563 569 571 577 587 593 599 601 607 613 617 619 631 641 643 647 653 659 661 673 677 683 691 701 709 719 727 733 739 743 751 757 761 769 773 787 797 809 811 821 823 827 829 839 853 857 859 863 877 881 883 887 907 911 919 "
     ]
    }
   ],
   "source": [
    "def mp(n):\n",
    "    for i in range(2,n+1):\n",
    "        count=0\n",
    "        for j in range(2, i//2+1):\n",
    "            if i%j == 0:\n",
    "                count+=1\n",
    "        if count<=0:\n",
    "            print(i, end=\" \")\n",
    "mp(928)"
   ]
  },
  {
   "cell_type": "code",
   "execution_count": null,
   "metadata": {},
   "outputs": [],
   "source": []
  },
  {
   "cell_type": "code",
   "execution_count": null,
   "metadata": {},
   "outputs": [],
   "source": []
  },
  {
   "cell_type": "code",
   "execution_count": null,
   "metadata": {},
   "outputs": [],
   "source": [
    "Consider All lowercase Alphabets of the English language. Here we consider each alphabet from a to z to have a certain weight. The weight of the alphabet a is considered to be 1, b to be 2, c to be 3 and so on until z has a weight of 26. In short, the weight of the alphabet a is 1, and the weight of all other alphabets is the weight of its previous alphabet + 1.\n",
    "\n",
    "Now, you have been given a String S consisting of lowercase English characters. You need to find the summation of weight of each character in this String.\n",
    "\n",
    "For example, Consider the String aba\n",
    "\n",
    "Here, the first character a has a weight of 1, the second character b has 2 and the third character a again has a weight of 1. So the summation here is equal to : 1+2+1=4\n",
    "\n",
    "Input Format:\n",
    "\n",
    "The first and only line of input contains the String S.\n",
    "\n",
    "Output Format:\n",
    "\n",
    "Print the required answer on a single line"
   ]
  },
  {
   "cell_type": "code",
   "execution_count": 83,
   "metadata": {},
   "outputs": [
    {
     "name": "stdout",
     "output_type": "stream",
     "text": [
      "4\n"
     ]
    }
   ],
   "source": [
    "def charsum(s):  \n",
    "    score = 0\n",
    "    index = 0\n",
    "    for i in range(n):  \n",
    "        for j in range(n): \n",
    "            score += ((ord(s[j]) - ord('a')) + 1) \n",
    "        index = i + 1\n",
    "        break\n",
    "    score = score * index \n",
    "    return score \n",
    " \n",
    "s = \"aba\"\n",
    "score = charsum(s);  \n",
    "print(score)"
   ]
  },
  {
   "cell_type": "code",
   "execution_count": 2,
   "metadata": {},
   "outputs": [
    {
     "name": "stdout",
     "output_type": "stream",
     "text": [
      "mitsu\n",
      "82\n"
     ]
    }
   ],
   "source": [
    "def char_sum(string):\n",
    "    Total = 0\n",
    "    character = 0\n",
    "    length = len(string)\n",
    "    for i in range(length):\n",
    "        for j in range(length):\n",
    "            Total += ((ord(string[j]) - ord('a')) + 1)\n",
    "        character = i + 1\n",
    "        break\n",
    "    print(Total)\n",
    "\n",
    "string=input()\n",
    "char_sum(string)"
   ]
  },
  {
   "cell_type": "code",
   "execution_count": 8,
   "metadata": {},
   "outputs": [
    {
     "ename": "NameError",
     "evalue": "name 'orb' is not defined",
     "output_type": "error",
     "traceback": [
      "\u001b[1;31m---------------------------------------------------------------------------\u001b[0m",
      "\u001b[1;31mNameError\u001b[0m                                 Traceback (most recent call last)",
      "\u001b[1;32m<ipython-input-8-ba3481fd20c8>\u001b[0m in \u001b[0;36m<module>\u001b[1;34m\u001b[0m\n\u001b[1;32m----> 1\u001b[1;33m \u001b[0morb\u001b[0m\u001b[1;33m(\u001b[0m\u001b[1;34m' '\u001b[0m\u001b[1;33m)\u001b[0m\u001b[1;33m\u001b[0m\u001b[1;33m\u001b[0m\u001b[0m\n\u001b[0m",
      "\u001b[1;31mNameError\u001b[0m: name 'orb' is not defined"
     ]
    }
   ],
   "source": [
    "orb()"
   ]
  },
  {
   "cell_type": "markdown",
   "metadata": {},
   "source": [
    "Rahul is a very busy persion he dont wan't to waste his time . He keeps account of duration of each and every work. Now he don't even get time to calculate duration of works, So your job is to count the durations for each work and give it to rahul.\n",
    "\n",
    " \n",
    "\n",
    "Input:\n",
    "\n",
    "First line will be given by N number of works\n",
    "Next N line will be given SH,SM,EH and EM  each separated by space(SH=starting hr, SM=starting min, EH=ending hr, EM=ending min)\n",
    "Output:\n",
    "\n",
    "N lines with duration HH MM(hours and minutes separated by space)"
   ]
  },
  {
   "cell_type": "code",
   "execution_count": null,
   "metadata": {},
   "outputs": [],
   "source": [
    "def calculate_duration(sh,sm,eh,em):\n",
    "    em=em+60\n",
    "    minute = em - sm\n",
    "    hours = eh - sh -1\n",
    "    if (minute >=60):\n",
    "        minute = minute - 60\n",
    "        hours+=1\n",
    "    \n",
    "    print(hours,minute)\n",
    "    \n",
    "n=int(input())\n",
    "for i in range(n):\n",
    "    s=input()\n",
    "    s=s.split()\n",
    "    sh=int(s[0])\n",
    "    sm=int(s[1])\n",
    "    eh=int(s[2])\n",
    "    em=int(s[3])\n",
    "    calculate_duration(sh,sm,eh,em)"
   ]
  },
  {
   "cell_type": "code",
   "execution_count": 8,
   "metadata": {},
   "outputs": [
    {
     "name": "stdout",
     "output_type": "stream",
     "text": [
      "0 30\n"
     ]
    }
   ],
   "source": [
    "s = \"1 44 2 14\"\n",
    "def minutediff(s):\n",
    "    s=s.split()\n",
    "    sh= int(s[0])\n",
    "    sm= int(s[1])\n",
    "    eh= int(s[2])\n",
    "    em= int(s[3])\n",
    "    startminutes = (sh * 60) + sm\n",
    "    endminutes = (eh * 60) + em\n",
    "    return endminutes - startminutes\n",
    "\n",
    "def output(minutes):\n",
    "    hh = minutes // 60\n",
    "    mm = minutes % 60\n",
    "    print(hh, mm)\n",
    "    return\n",
    "\n",
    "minutes = minutediff(s)\n",
    "output(minutes)"
   ]
  },
  {
   "cell_type": "code",
   "execution_count": null,
   "metadata": {},
   "outputs": [],
   "source": []
  },
  {
   "cell_type": "markdown",
   "metadata": {},
   "source": [
    "### Play with numbers (not working)\n",
    "You are given an array of n numbers and q queries. For each query you have to print the floor of the expected value(mean) of the subarray from L to R.\n",
    "\n",
    "\n",
    "First line contains two integers N and Q denoting number of array elements and number of queries.\n",
    "\n",
    "Next line contains N space seperated integers denoting array elements.\n",
    "\n",
    "Next Q lines contain two integers L and R(indices of the array).\n",
    "\n",
    "\n",
    "\n",
    "print a single integer denoting the answer.:\n",
    "\n",
    "Contraints:\n",
    "\n",
    "\n",
    "1<= N ,Q,L,R <= 10^6\n",
    "\n",
    "1<= Array elements <= 10^9\n",
    "\n",
    "NOTE\n",
    "\n",
    "Use Fast I/O\n",
    "\n",
    "Sample input                 Sample output\n",
    "\n",
    "5 3                          2\n",
    "1 2 3 4 5                    3\n",
    "1 3                          3\n",
    "2 4\n",
    "2 5\n",
    "\n",
    "\n",
    "\n",
    "\n"
   ]
  },
  {
   "cell_type": "code",
   "execution_count": 11,
   "metadata": {},
   "outputs": [],
   "source": [
    "def playwithnumbers(li,a,b):\n",
    "    c=li.index(a)\n",
    "    d=li.index(b)\n",
    "    f=len(li[c:d+1])\n",
    "    e=sum(li[c:d+1])\n",
    "    print(int(e/f))"
   ]
  },
  {
   "cell_type": "code",
   "execution_count": null,
   "metadata": {},
   "outputs": [],
   "source": []
  },
  {
   "cell_type": "code",
   "execution_count": 12,
   "metadata": {},
   "outputs": [
    {
     "name": "stdout",
     "output_type": "stream",
     "text": [
      "5 3\n",
      "1 2 3 4 5\n",
      "[1, 2, 3, 4, 5]\n",
      "1 2\n",
      "1\n",
      "2 3\n",
      "2\n",
      "3 5\n",
      "4\n"
     ]
    }
   ],
   "source": [
    "a=input()\n",
    "a=a.split()\n",
    "c=int(a[0])\n",
    "d=int(a[1])\n",
    "li=[]\n",
    "e=input()\n",
    "for i in e.split():\n",
    "    li.append(int(i))\n",
    "print (li)\n",
    "for i in a:\n",
    "    li.append(int(i))\n",
    "for i in range (0,d):\n",
    "    a=input()\n",
    "    a=a.split()\n",
    "    e=int(a[0])\n",
    "    f=int(a[1])\n",
    "    playwithnumbers(li,e,f)\n"
   ]
  },
  {
   "cell_type": "code",
   "execution_count": null,
   "metadata": {},
   "outputs": [],
   "source": []
  },
  {
   "cell_type": "markdown",
   "metadata": {},
   "source": [
    "## Two strings"
   ]
  },
  {
   "cell_type": "code",
   "execution_count": 3,
   "metadata": {},
   "outputs": [
    {
     "name": "stdout",
     "output_type": "stream",
     "text": [
      "1\n",
      "mohan nahmo\n",
      "YES\n"
     ]
    }
   ],
   "source": [
    "def Twostrings(str1,str2):\n",
    "    str1=sorted(str1)\n",
    "    str2=sorted(str2)\n",
    "    if str1==str2:\n",
    "        print(\"YES\")\n",
    "    else:\n",
    "        print(\"NO\")\n",
    "        \n",
    "r=int(input())\n",
    "for i in range(r):\n",
    "    s=input()\n",
    "    s=s.split()\n",
    "    str1=s[0]\n",
    "    str2=s[1]\n",
    "    Twostrings(str1,str2)"
   ]
  },
  {
   "cell_type": "code",
   "execution_count": null,
   "metadata": {},
   "outputs": [],
   "source": []
  },
  {
   "cell_type": "markdown",
   "metadata": {},
   "source": [
    "### Product of number"
   ]
  },
  {
   "cell_type": "code",
   "execution_count": 8,
   "metadata": {},
   "outputs": [
    {
     "name": "stdout",
     "output_type": "stream",
     "text": [
      "10\n",
      "1 5 2 6 2 3\n",
      "360\n"
     ]
    }
   ],
   "source": [
    "def product(num):\n",
    "    answer = 1\n",
    "    for i in num.split():\n",
    "        answer = (answer*int(i)) % ((10**9)+7)\n",
    "    print(answer)\n",
    "    return\n",
    "\n",
    "r=int(input())\n",
    "\n",
    "numbers = input()\n",
    "\n",
    "product(numbers)"
   ]
  },
  {
   "cell_type": "code",
   "execution_count": null,
   "metadata": {},
   "outputs": [],
   "source": []
  },
  {
   "cell_type": "code",
   "execution_count": 13,
   "metadata": {},
   "outputs": [
    {
     "data": {
      "text/plain": [
       "False"
      ]
     },
     "execution_count": 13,
     "metadata": {},
     "output_type": "execute_result"
    }
   ],
   "source": [
    "#Prime Factors\n",
    "\n",
    "\n",
    "def isprime(n):\n",
    "    if(n==1):\n",
    "        return False\n",
    "    for i in range(2,n):\n",
    "        if(n%i==0):\n",
    "            return False\n",
    "        \n",
    "    return True\n",
    "            \n",
    "isprime(1)"
   ]
  },
  {
   "cell_type": "code",
   "execution_count": 14,
   "metadata": {},
   "outputs": [],
   "source": [
    "def noofprimefactors(n):\n",
    "    count=0\n",
    "    for i in range(1,n):\n",
    "        if(n%i==0):\n",
    "\n",
    "            if isprime(i):\n",
    "                count=count+1\n",
    "    return count"
   ]
  },
  {
   "cell_type": "code",
   "execution_count": 15,
   "metadata": {},
   "outputs": [
    {
     "name": "stdout",
     "output_type": "stream",
     "text": [
      "5\n",
      "2\n",
      "50\n",
      "NO\n",
      "100\n",
      "NO\n"
     ]
    }
   ],
   "source": [
    "p=int(input())\n",
    "q=int(input())\n",
    "for i in range (0,q):\n",
    "    a=int(input())\n",
    "    if(noofprimefactors(a)==p):\n",
    "        print(\"YES\")\n",
    "    else:\n",
    "        print(\"NO\")"
   ]
  },
  {
   "cell_type": "code",
   "execution_count": null,
   "metadata": {},
   "outputs": [],
   "source": []
  },
  {
   "cell_type": "code",
   "execution_count": 17,
   "metadata": {},
   "outputs": [
    {
     "name": "stdout",
     "output_type": "stream",
     "text": [
      "1\n",
      "1\n",
      "3\n",
      "4\n",
      "4\n",
      "6\n",
      "6\n",
      "6\n",
      "6\n"
     ]
    }
   ],
   "source": [
    "#Maximum remainder\n",
    "\n",
    "def maxrem(n):\n",
    "    rem=[]\n",
    "    li=[]\n",
    "    for i in range (1,n):\n",
    "        rem.append(n%i)\n",
    "        li.append(i)\n",
    "        c=max(rem)\n",
    "        d=rem.index(c)\n",
    "        print(li[d])\n",
    "        \n",
    "maxrem(10)"
   ]
  },
  {
   "cell_type": "code",
   "execution_count": null,
   "metadata": {},
   "outputs": [],
   "source": []
  },
  {
   "cell_type": "markdown",
   "metadata": {},
   "source": [
    "### Is Digit and Is Alpha"
   ]
  },
  {
   "cell_type": "code",
   "execution_count": 1,
   "metadata": {},
   "outputs": [
    {
     "name": "stdout",
     "output_type": "stream",
     "text": [
      "M0h1n\n",
      "2\n",
      "3\n"
     ]
    }
   ],
   "source": [
    "def countofstring(s):\n",
    "    num=0\n",
    "    char=0\n",
    "    for i in s:\n",
    "        if i.isdigit():\n",
    "            num+=1\n",
    "        elif i.isalpha():\n",
    "            char+=1\n",
    "    print(num)\n",
    "    print(char)\n",
    "    \n",
    "s=input()\n",
    "countofstring(s)"
   ]
  },
  {
   "cell_type": "code",
   "execution_count": null,
   "metadata": {},
   "outputs": [],
   "source": []
  }
 ],
 "metadata": {
  "kernelspec": {
   "display_name": "Python 3",
   "language": "python",
   "name": "python3"
  },
  "language_info": {
   "codemirror_mode": {
    "name": "ipython",
    "version": 3
   },
   "file_extension": ".py",
   "mimetype": "text/x-python",
   "name": "python",
   "nbconvert_exporter": "python",
   "pygments_lexer": "ipython3",
   "version": "3.7.3"
  }
 },
 "nbformat": 4,
 "nbformat_minor": 2
}
